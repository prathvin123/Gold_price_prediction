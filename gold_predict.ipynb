{
  "nbformat": 4,
  "nbformat_minor": 0,
  "metadata": {
    "colab": {
      "provenance": [],
      "authorship_tag": "ABX9TyNLqeMzxdWOldE29dzHmcG0",
      "include_colab_link": true
    },
    "kernelspec": {
      "name": "python3",
      "display_name": "Python 3"
    },
    "language_info": {
      "name": "python"
    }
  },
  "cells": [
    {
      "cell_type": "markdown",
      "metadata": {
        "id": "view-in-github",
        "colab_type": "text"
      },
      "source": [
        "<a href=\"https://colab.research.google.com/github/prathvin123/gold_price_prediction/blob/main/gold_predict.ipynb\" target=\"_parent\"><img src=\"https://colab.research.google.com/assets/colab-badge.svg\" alt=\"Open In Colab\"/></a>"
      ]
    },
    {
      "cell_type": "code",
      "execution_count": 12,
      "metadata": {
        "id": "SIg6b4Bi_gay"
      },
      "outputs": [],
      "source": [
        "import numpy as np\n",
        "import pandas as pd\n",
        "import matplotlib.pyplot as plt\n",
        "import seaborn as sns\n",
        "from sklearn.model_selection import train_test_split\n",
        "from sklearn.ensemble import RandomForestRegressor\n",
        "from sklearn import metrics"
      ]
    },
    {
      "cell_type": "code",
      "source": [],
      "metadata": {
        "id": "LuvF1whzCo9F"
      },
      "execution_count": 12,
      "outputs": []
    },
    {
      "cell_type": "markdown",
      "source": [],
      "metadata": {
        "id": "jNH_OMqVEIc2"
      }
    },
    {
      "cell_type": "code",
      "source": [
        "gold_data = pd.read_csv('/content/gld_price_data.csv')"
      ],
      "metadata": {
        "id": "98bz32FGEJHn"
      },
      "execution_count": 13,
      "outputs": []
    },
    {
      "cell_type": "code",
      "source": [
        "gold_data.head()"
      ],
      "metadata": {
        "colab": {
          "base_uri": "https://localhost:8080/",
          "height": 206
        },
        "id": "fj_N0zOlEdwk",
        "outputId": "6237e2b6-d5e9-43da-9bfd-4d610b4f9b64"
      },
      "execution_count": 14,
      "outputs": [
        {
          "output_type": "execute_result",
          "data": {
            "text/plain": [
              "       Date          SPX        GLD        USO     SLV   EUR/USD\n",
              "0  1/2/2008  1447.160034  84.860001  78.470001  15.180  1.471692\n",
              "1  1/3/2008  1447.160034  85.570000  78.370003  15.285  1.474491\n",
              "2  1/4/2008  1411.630005  85.129997  77.309998  15.167  1.475492\n",
              "3  1/7/2008  1416.180054  84.769997  75.500000  15.053  1.468299\n",
              "4  1/8/2008  1390.189941  86.779999  76.059998  15.590  1.557099"
            ],
            "text/html": [
              "\n",
              "  <div id=\"df-2c11dedd-754b-454e-9258-9e5f6553a3fc\">\n",
              "    <div class=\"colab-df-container\">\n",
              "      <div>\n",
              "<style scoped>\n",
              "    .dataframe tbody tr th:only-of-type {\n",
              "        vertical-align: middle;\n",
              "    }\n",
              "\n",
              "    .dataframe tbody tr th {\n",
              "        vertical-align: top;\n",
              "    }\n",
              "\n",
              "    .dataframe thead th {\n",
              "        text-align: right;\n",
              "    }\n",
              "</style>\n",
              "<table border=\"1\" class=\"dataframe\">\n",
              "  <thead>\n",
              "    <tr style=\"text-align: right;\">\n",
              "      <th></th>\n",
              "      <th>Date</th>\n",
              "      <th>SPX</th>\n",
              "      <th>GLD</th>\n",
              "      <th>USO</th>\n",
              "      <th>SLV</th>\n",
              "      <th>EUR/USD</th>\n",
              "    </tr>\n",
              "  </thead>\n",
              "  <tbody>\n",
              "    <tr>\n",
              "      <th>0</th>\n",
              "      <td>1/2/2008</td>\n",
              "      <td>1447.160034</td>\n",
              "      <td>84.860001</td>\n",
              "      <td>78.470001</td>\n",
              "      <td>15.180</td>\n",
              "      <td>1.471692</td>\n",
              "    </tr>\n",
              "    <tr>\n",
              "      <th>1</th>\n",
              "      <td>1/3/2008</td>\n",
              "      <td>1447.160034</td>\n",
              "      <td>85.570000</td>\n",
              "      <td>78.370003</td>\n",
              "      <td>15.285</td>\n",
              "      <td>1.474491</td>\n",
              "    </tr>\n",
              "    <tr>\n",
              "      <th>2</th>\n",
              "      <td>1/4/2008</td>\n",
              "      <td>1411.630005</td>\n",
              "      <td>85.129997</td>\n",
              "      <td>77.309998</td>\n",
              "      <td>15.167</td>\n",
              "      <td>1.475492</td>\n",
              "    </tr>\n",
              "    <tr>\n",
              "      <th>3</th>\n",
              "      <td>1/7/2008</td>\n",
              "      <td>1416.180054</td>\n",
              "      <td>84.769997</td>\n",
              "      <td>75.500000</td>\n",
              "      <td>15.053</td>\n",
              "      <td>1.468299</td>\n",
              "    </tr>\n",
              "    <tr>\n",
              "      <th>4</th>\n",
              "      <td>1/8/2008</td>\n",
              "      <td>1390.189941</td>\n",
              "      <td>86.779999</td>\n",
              "      <td>76.059998</td>\n",
              "      <td>15.590</td>\n",
              "      <td>1.557099</td>\n",
              "    </tr>\n",
              "  </tbody>\n",
              "</table>\n",
              "</div>\n",
              "      <button class=\"colab-df-convert\" onclick=\"convertToInteractive('df-2c11dedd-754b-454e-9258-9e5f6553a3fc')\"\n",
              "              title=\"Convert this dataframe to an interactive table.\"\n",
              "              style=\"display:none;\">\n",
              "        \n",
              "  <svg xmlns=\"http://www.w3.org/2000/svg\" height=\"24px\"viewBox=\"0 0 24 24\"\n",
              "       width=\"24px\">\n",
              "    <path d=\"M0 0h24v24H0V0z\" fill=\"none\"/>\n",
              "    <path d=\"M18.56 5.44l.94 2.06.94-2.06 2.06-.94-2.06-.94-.94-2.06-.94 2.06-2.06.94zm-11 1L8.5 8.5l.94-2.06 2.06-.94-2.06-.94L8.5 2.5l-.94 2.06-2.06.94zm10 10l.94 2.06.94-2.06 2.06-.94-2.06-.94-.94-2.06-.94 2.06-2.06.94z\"/><path d=\"M17.41 7.96l-1.37-1.37c-.4-.4-.92-.59-1.43-.59-.52 0-1.04.2-1.43.59L10.3 9.45l-7.72 7.72c-.78.78-.78 2.05 0 2.83L4 21.41c.39.39.9.59 1.41.59.51 0 1.02-.2 1.41-.59l7.78-7.78 2.81-2.81c.8-.78.8-2.07 0-2.86zM5.41 20L4 18.59l7.72-7.72 1.47 1.35L5.41 20z\"/>\n",
              "  </svg>\n",
              "      </button>\n",
              "      \n",
              "  <style>\n",
              "    .colab-df-container {\n",
              "      display:flex;\n",
              "      flex-wrap:wrap;\n",
              "      gap: 12px;\n",
              "    }\n",
              "\n",
              "    .colab-df-convert {\n",
              "      background-color: #E8F0FE;\n",
              "      border: none;\n",
              "      border-radius: 50%;\n",
              "      cursor: pointer;\n",
              "      display: none;\n",
              "      fill: #1967D2;\n",
              "      height: 32px;\n",
              "      padding: 0 0 0 0;\n",
              "      width: 32px;\n",
              "    }\n",
              "\n",
              "    .colab-df-convert:hover {\n",
              "      background-color: #E2EBFA;\n",
              "      box-shadow: 0px 1px 2px rgba(60, 64, 67, 0.3), 0px 1px 3px 1px rgba(60, 64, 67, 0.15);\n",
              "      fill: #174EA6;\n",
              "    }\n",
              "\n",
              "    [theme=dark] .colab-df-convert {\n",
              "      background-color: #3B4455;\n",
              "      fill: #D2E3FC;\n",
              "    }\n",
              "\n",
              "    [theme=dark] .colab-df-convert:hover {\n",
              "      background-color: #434B5C;\n",
              "      box-shadow: 0px 1px 3px 1px rgba(0, 0, 0, 0.15);\n",
              "      filter: drop-shadow(0px 1px 2px rgba(0, 0, 0, 0.3));\n",
              "      fill: #FFFFFF;\n",
              "    }\n",
              "  </style>\n",
              "\n",
              "      <script>\n",
              "        const buttonEl =\n",
              "          document.querySelector('#df-2c11dedd-754b-454e-9258-9e5f6553a3fc button.colab-df-convert');\n",
              "        buttonEl.style.display =\n",
              "          google.colab.kernel.accessAllowed ? 'block' : 'none';\n",
              "\n",
              "        async function convertToInteractive(key) {\n",
              "          const element = document.querySelector('#df-2c11dedd-754b-454e-9258-9e5f6553a3fc');\n",
              "          const dataTable =\n",
              "            await google.colab.kernel.invokeFunction('convertToInteractive',\n",
              "                                                     [key], {});\n",
              "          if (!dataTable) return;\n",
              "\n",
              "          const docLinkHtml = 'Like what you see? Visit the ' +\n",
              "            '<a target=\"_blank\" href=https://colab.research.google.com/notebooks/data_table.ipynb>data table notebook</a>'\n",
              "            + ' to learn more about interactive tables.';\n",
              "          element.innerHTML = '';\n",
              "          dataTable['output_type'] = 'display_data';\n",
              "          await google.colab.output.renderOutput(dataTable, element);\n",
              "          const docLink = document.createElement('div');\n",
              "          docLink.innerHTML = docLinkHtml;\n",
              "          element.appendChild(docLink);\n",
              "        }\n",
              "      </script>\n",
              "    </div>\n",
              "  </div>\n",
              "  "
            ]
          },
          "metadata": {},
          "execution_count": 14
        }
      ]
    },
    {
      "cell_type": "code",
      "source": [
        "gold_data.tail()"
      ],
      "metadata": {
        "colab": {
          "base_uri": "https://localhost:8080/",
          "height": 206
        },
        "id": "R8_GbzdVEpT9",
        "outputId": "26464cfa-78c1-42fc-9fde-eb61d6bc2b4b"
      },
      "execution_count": 15,
      "outputs": [
        {
          "output_type": "execute_result",
          "data": {
            "text/plain": [
              "           Date          SPX         GLD      USO      SLV   EUR/USD\n",
              "2285   5/8/2018  2671.919922  124.589996  14.0600  15.5100  1.186789\n",
              "2286   5/9/2018  2697.790039  124.330002  14.3700  15.5300  1.184722\n",
              "2287  5/10/2018  2723.070068  125.180000  14.4100  15.7400  1.191753\n",
              "2288  5/14/2018  2730.129883  124.489998  14.3800  15.5600  1.193118\n",
              "2289  5/16/2018  2725.780029  122.543800  14.4058  15.4542  1.182033"
            ],
            "text/html": [
              "\n",
              "  <div id=\"df-7ea0520d-31c8-40bd-98a6-93e82e3219e8\">\n",
              "    <div class=\"colab-df-container\">\n",
              "      <div>\n",
              "<style scoped>\n",
              "    .dataframe tbody tr th:only-of-type {\n",
              "        vertical-align: middle;\n",
              "    }\n",
              "\n",
              "    .dataframe tbody tr th {\n",
              "        vertical-align: top;\n",
              "    }\n",
              "\n",
              "    .dataframe thead th {\n",
              "        text-align: right;\n",
              "    }\n",
              "</style>\n",
              "<table border=\"1\" class=\"dataframe\">\n",
              "  <thead>\n",
              "    <tr style=\"text-align: right;\">\n",
              "      <th></th>\n",
              "      <th>Date</th>\n",
              "      <th>SPX</th>\n",
              "      <th>GLD</th>\n",
              "      <th>USO</th>\n",
              "      <th>SLV</th>\n",
              "      <th>EUR/USD</th>\n",
              "    </tr>\n",
              "  </thead>\n",
              "  <tbody>\n",
              "    <tr>\n",
              "      <th>2285</th>\n",
              "      <td>5/8/2018</td>\n",
              "      <td>2671.919922</td>\n",
              "      <td>124.589996</td>\n",
              "      <td>14.0600</td>\n",
              "      <td>15.5100</td>\n",
              "      <td>1.186789</td>\n",
              "    </tr>\n",
              "    <tr>\n",
              "      <th>2286</th>\n",
              "      <td>5/9/2018</td>\n",
              "      <td>2697.790039</td>\n",
              "      <td>124.330002</td>\n",
              "      <td>14.3700</td>\n",
              "      <td>15.5300</td>\n",
              "      <td>1.184722</td>\n",
              "    </tr>\n",
              "    <tr>\n",
              "      <th>2287</th>\n",
              "      <td>5/10/2018</td>\n",
              "      <td>2723.070068</td>\n",
              "      <td>125.180000</td>\n",
              "      <td>14.4100</td>\n",
              "      <td>15.7400</td>\n",
              "      <td>1.191753</td>\n",
              "    </tr>\n",
              "    <tr>\n",
              "      <th>2288</th>\n",
              "      <td>5/14/2018</td>\n",
              "      <td>2730.129883</td>\n",
              "      <td>124.489998</td>\n",
              "      <td>14.3800</td>\n",
              "      <td>15.5600</td>\n",
              "      <td>1.193118</td>\n",
              "    </tr>\n",
              "    <tr>\n",
              "      <th>2289</th>\n",
              "      <td>5/16/2018</td>\n",
              "      <td>2725.780029</td>\n",
              "      <td>122.543800</td>\n",
              "      <td>14.4058</td>\n",
              "      <td>15.4542</td>\n",
              "      <td>1.182033</td>\n",
              "    </tr>\n",
              "  </tbody>\n",
              "</table>\n",
              "</div>\n",
              "      <button class=\"colab-df-convert\" onclick=\"convertToInteractive('df-7ea0520d-31c8-40bd-98a6-93e82e3219e8')\"\n",
              "              title=\"Convert this dataframe to an interactive table.\"\n",
              "              style=\"display:none;\">\n",
              "        \n",
              "  <svg xmlns=\"http://www.w3.org/2000/svg\" height=\"24px\"viewBox=\"0 0 24 24\"\n",
              "       width=\"24px\">\n",
              "    <path d=\"M0 0h24v24H0V0z\" fill=\"none\"/>\n",
              "    <path d=\"M18.56 5.44l.94 2.06.94-2.06 2.06-.94-2.06-.94-.94-2.06-.94 2.06-2.06.94zm-11 1L8.5 8.5l.94-2.06 2.06-.94-2.06-.94L8.5 2.5l-.94 2.06-2.06.94zm10 10l.94 2.06.94-2.06 2.06-.94-2.06-.94-.94-2.06-.94 2.06-2.06.94z\"/><path d=\"M17.41 7.96l-1.37-1.37c-.4-.4-.92-.59-1.43-.59-.52 0-1.04.2-1.43.59L10.3 9.45l-7.72 7.72c-.78.78-.78 2.05 0 2.83L4 21.41c.39.39.9.59 1.41.59.51 0 1.02-.2 1.41-.59l7.78-7.78 2.81-2.81c.8-.78.8-2.07 0-2.86zM5.41 20L4 18.59l7.72-7.72 1.47 1.35L5.41 20z\"/>\n",
              "  </svg>\n",
              "      </button>\n",
              "      \n",
              "  <style>\n",
              "    .colab-df-container {\n",
              "      display:flex;\n",
              "      flex-wrap:wrap;\n",
              "      gap: 12px;\n",
              "    }\n",
              "\n",
              "    .colab-df-convert {\n",
              "      background-color: #E8F0FE;\n",
              "      border: none;\n",
              "      border-radius: 50%;\n",
              "      cursor: pointer;\n",
              "      display: none;\n",
              "      fill: #1967D2;\n",
              "      height: 32px;\n",
              "      padding: 0 0 0 0;\n",
              "      width: 32px;\n",
              "    }\n",
              "\n",
              "    .colab-df-convert:hover {\n",
              "      background-color: #E2EBFA;\n",
              "      box-shadow: 0px 1px 2px rgba(60, 64, 67, 0.3), 0px 1px 3px 1px rgba(60, 64, 67, 0.15);\n",
              "      fill: #174EA6;\n",
              "    }\n",
              "\n",
              "    [theme=dark] .colab-df-convert {\n",
              "      background-color: #3B4455;\n",
              "      fill: #D2E3FC;\n",
              "    }\n",
              "\n",
              "    [theme=dark] .colab-df-convert:hover {\n",
              "      background-color: #434B5C;\n",
              "      box-shadow: 0px 1px 3px 1px rgba(0, 0, 0, 0.15);\n",
              "      filter: drop-shadow(0px 1px 2px rgba(0, 0, 0, 0.3));\n",
              "      fill: #FFFFFF;\n",
              "    }\n",
              "  </style>\n",
              "\n",
              "      <script>\n",
              "        const buttonEl =\n",
              "          document.querySelector('#df-7ea0520d-31c8-40bd-98a6-93e82e3219e8 button.colab-df-convert');\n",
              "        buttonEl.style.display =\n",
              "          google.colab.kernel.accessAllowed ? 'block' : 'none';\n",
              "\n",
              "        async function convertToInteractive(key) {\n",
              "          const element = document.querySelector('#df-7ea0520d-31c8-40bd-98a6-93e82e3219e8');\n",
              "          const dataTable =\n",
              "            await google.colab.kernel.invokeFunction('convertToInteractive',\n",
              "                                                     [key], {});\n",
              "          if (!dataTable) return;\n",
              "\n",
              "          const docLinkHtml = 'Like what you see? Visit the ' +\n",
              "            '<a target=\"_blank\" href=https://colab.research.google.com/notebooks/data_table.ipynb>data table notebook</a>'\n",
              "            + ' to learn more about interactive tables.';\n",
              "          element.innerHTML = '';\n",
              "          dataTable['output_type'] = 'display_data';\n",
              "          await google.colab.output.renderOutput(dataTable, element);\n",
              "          const docLink = document.createElement('div');\n",
              "          docLink.innerHTML = docLinkHtml;\n",
              "          element.appendChild(docLink);\n",
              "        }\n",
              "      </script>\n",
              "    </div>\n",
              "  </div>\n",
              "  "
            ]
          },
          "metadata": {},
          "execution_count": 15
        }
      ]
    },
    {
      "cell_type": "code",
      "source": [
        "gold_data.shape"
      ],
      "metadata": {
        "colab": {
          "base_uri": "https://localhost:8080/"
        },
        "id": "mYPFV7tvE6ZR",
        "outputId": "ee0ca351-cd24-4897-fdd5-dfc1eb4bc150"
      },
      "execution_count": 16,
      "outputs": [
        {
          "output_type": "execute_result",
          "data": {
            "text/plain": [
              "(2290, 6)"
            ]
          },
          "metadata": {},
          "execution_count": 16
        }
      ]
    },
    {
      "cell_type": "code",
      "source": [
        "gold_data.info()"
      ],
      "metadata": {
        "colab": {
          "base_uri": "https://localhost:8080/"
        },
        "id": "ZZ5hGIRGFCr6",
        "outputId": "0d37d3e4-e6b2-4cb2-a1e8-d9e7cceded85"
      },
      "execution_count": 17,
      "outputs": [
        {
          "output_type": "stream",
          "name": "stdout",
          "text": [
            "<class 'pandas.core.frame.DataFrame'>\n",
            "RangeIndex: 2290 entries, 0 to 2289\n",
            "Data columns (total 6 columns):\n",
            " #   Column   Non-Null Count  Dtype  \n",
            "---  ------   --------------  -----  \n",
            " 0   Date     2290 non-null   object \n",
            " 1   SPX      2290 non-null   float64\n",
            " 2   GLD      2290 non-null   float64\n",
            " 3   USO      2290 non-null   float64\n",
            " 4   SLV      2290 non-null   float64\n",
            " 5   EUR/USD  2290 non-null   float64\n",
            "dtypes: float64(5), object(1)\n",
            "memory usage: 107.5+ KB\n"
          ]
        }
      ]
    },
    {
      "cell_type": "code",
      "source": [
        "gold_data.isnull().sum()"
      ],
      "metadata": {
        "colab": {
          "base_uri": "https://localhost:8080/"
        },
        "id": "qqvl2p71FMOI",
        "outputId": "27fec937-2498-4af3-9cc7-df1d106039a1"
      },
      "execution_count": 18,
      "outputs": [
        {
          "output_type": "execute_result",
          "data": {
            "text/plain": [
              "Date       0\n",
              "SPX        0\n",
              "GLD        0\n",
              "USO        0\n",
              "SLV        0\n",
              "EUR/USD    0\n",
              "dtype: int64"
            ]
          },
          "metadata": {},
          "execution_count": 18
        }
      ]
    },
    {
      "cell_type": "code",
      "source": [
        "gold_data.describe()"
      ],
      "metadata": {
        "colab": {
          "base_uri": "https://localhost:8080/",
          "height": 300
        },
        "id": "wFHJ6tiCLJCO",
        "outputId": "3473fc5f-8979-491a-8c89-b9de8c74d9ab"
      },
      "execution_count": 19,
      "outputs": [
        {
          "output_type": "execute_result",
          "data": {
            "text/plain": [
              "               SPX          GLD          USO          SLV      EUR/USD\n",
              "count  2290.000000  2290.000000  2290.000000  2290.000000  2290.000000\n",
              "mean   1654.315776   122.732875    31.842221    20.084997     1.283653\n",
              "std     519.111540    23.283346    19.523517     7.092566     0.131547\n",
              "min     676.530029    70.000000     7.960000     8.850000     1.039047\n",
              "25%    1239.874969   109.725000    14.380000    15.570000     1.171313\n",
              "50%    1551.434998   120.580002    33.869999    17.268500     1.303297\n",
              "75%    2073.010070   132.840004    37.827501    22.882500     1.369971\n",
              "max    2872.870117   184.589996   117.480003    47.259998     1.598798"
            ],
            "text/html": [
              "\n",
              "  <div id=\"df-ec049ac7-ef07-4d76-b1b5-ace8034db5f6\">\n",
              "    <div class=\"colab-df-container\">\n",
              "      <div>\n",
              "<style scoped>\n",
              "    .dataframe tbody tr th:only-of-type {\n",
              "        vertical-align: middle;\n",
              "    }\n",
              "\n",
              "    .dataframe tbody tr th {\n",
              "        vertical-align: top;\n",
              "    }\n",
              "\n",
              "    .dataframe thead th {\n",
              "        text-align: right;\n",
              "    }\n",
              "</style>\n",
              "<table border=\"1\" class=\"dataframe\">\n",
              "  <thead>\n",
              "    <tr style=\"text-align: right;\">\n",
              "      <th></th>\n",
              "      <th>SPX</th>\n",
              "      <th>GLD</th>\n",
              "      <th>USO</th>\n",
              "      <th>SLV</th>\n",
              "      <th>EUR/USD</th>\n",
              "    </tr>\n",
              "  </thead>\n",
              "  <tbody>\n",
              "    <tr>\n",
              "      <th>count</th>\n",
              "      <td>2290.000000</td>\n",
              "      <td>2290.000000</td>\n",
              "      <td>2290.000000</td>\n",
              "      <td>2290.000000</td>\n",
              "      <td>2290.000000</td>\n",
              "    </tr>\n",
              "    <tr>\n",
              "      <th>mean</th>\n",
              "      <td>1654.315776</td>\n",
              "      <td>122.732875</td>\n",
              "      <td>31.842221</td>\n",
              "      <td>20.084997</td>\n",
              "      <td>1.283653</td>\n",
              "    </tr>\n",
              "    <tr>\n",
              "      <th>std</th>\n",
              "      <td>519.111540</td>\n",
              "      <td>23.283346</td>\n",
              "      <td>19.523517</td>\n",
              "      <td>7.092566</td>\n",
              "      <td>0.131547</td>\n",
              "    </tr>\n",
              "    <tr>\n",
              "      <th>min</th>\n",
              "      <td>676.530029</td>\n",
              "      <td>70.000000</td>\n",
              "      <td>7.960000</td>\n",
              "      <td>8.850000</td>\n",
              "      <td>1.039047</td>\n",
              "    </tr>\n",
              "    <tr>\n",
              "      <th>25%</th>\n",
              "      <td>1239.874969</td>\n",
              "      <td>109.725000</td>\n",
              "      <td>14.380000</td>\n",
              "      <td>15.570000</td>\n",
              "      <td>1.171313</td>\n",
              "    </tr>\n",
              "    <tr>\n",
              "      <th>50%</th>\n",
              "      <td>1551.434998</td>\n",
              "      <td>120.580002</td>\n",
              "      <td>33.869999</td>\n",
              "      <td>17.268500</td>\n",
              "      <td>1.303297</td>\n",
              "    </tr>\n",
              "    <tr>\n",
              "      <th>75%</th>\n",
              "      <td>2073.010070</td>\n",
              "      <td>132.840004</td>\n",
              "      <td>37.827501</td>\n",
              "      <td>22.882500</td>\n",
              "      <td>1.369971</td>\n",
              "    </tr>\n",
              "    <tr>\n",
              "      <th>max</th>\n",
              "      <td>2872.870117</td>\n",
              "      <td>184.589996</td>\n",
              "      <td>117.480003</td>\n",
              "      <td>47.259998</td>\n",
              "      <td>1.598798</td>\n",
              "    </tr>\n",
              "  </tbody>\n",
              "</table>\n",
              "</div>\n",
              "      <button class=\"colab-df-convert\" onclick=\"convertToInteractive('df-ec049ac7-ef07-4d76-b1b5-ace8034db5f6')\"\n",
              "              title=\"Convert this dataframe to an interactive table.\"\n",
              "              style=\"display:none;\">\n",
              "        \n",
              "  <svg xmlns=\"http://www.w3.org/2000/svg\" height=\"24px\"viewBox=\"0 0 24 24\"\n",
              "       width=\"24px\">\n",
              "    <path d=\"M0 0h24v24H0V0z\" fill=\"none\"/>\n",
              "    <path d=\"M18.56 5.44l.94 2.06.94-2.06 2.06-.94-2.06-.94-.94-2.06-.94 2.06-2.06.94zm-11 1L8.5 8.5l.94-2.06 2.06-.94-2.06-.94L8.5 2.5l-.94 2.06-2.06.94zm10 10l.94 2.06.94-2.06 2.06-.94-2.06-.94-.94-2.06-.94 2.06-2.06.94z\"/><path d=\"M17.41 7.96l-1.37-1.37c-.4-.4-.92-.59-1.43-.59-.52 0-1.04.2-1.43.59L10.3 9.45l-7.72 7.72c-.78.78-.78 2.05 0 2.83L4 21.41c.39.39.9.59 1.41.59.51 0 1.02-.2 1.41-.59l7.78-7.78 2.81-2.81c.8-.78.8-2.07 0-2.86zM5.41 20L4 18.59l7.72-7.72 1.47 1.35L5.41 20z\"/>\n",
              "  </svg>\n",
              "      </button>\n",
              "      \n",
              "  <style>\n",
              "    .colab-df-container {\n",
              "      display:flex;\n",
              "      flex-wrap:wrap;\n",
              "      gap: 12px;\n",
              "    }\n",
              "\n",
              "    .colab-df-convert {\n",
              "      background-color: #E8F0FE;\n",
              "      border: none;\n",
              "      border-radius: 50%;\n",
              "      cursor: pointer;\n",
              "      display: none;\n",
              "      fill: #1967D2;\n",
              "      height: 32px;\n",
              "      padding: 0 0 0 0;\n",
              "      width: 32px;\n",
              "    }\n",
              "\n",
              "    .colab-df-convert:hover {\n",
              "      background-color: #E2EBFA;\n",
              "      box-shadow: 0px 1px 2px rgba(60, 64, 67, 0.3), 0px 1px 3px 1px rgba(60, 64, 67, 0.15);\n",
              "      fill: #174EA6;\n",
              "    }\n",
              "\n",
              "    [theme=dark] .colab-df-convert {\n",
              "      background-color: #3B4455;\n",
              "      fill: #D2E3FC;\n",
              "    }\n",
              "\n",
              "    [theme=dark] .colab-df-convert:hover {\n",
              "      background-color: #434B5C;\n",
              "      box-shadow: 0px 1px 3px 1px rgba(0, 0, 0, 0.15);\n",
              "      filter: drop-shadow(0px 1px 2px rgba(0, 0, 0, 0.3));\n",
              "      fill: #FFFFFF;\n",
              "    }\n",
              "  </style>\n",
              "\n",
              "      <script>\n",
              "        const buttonEl =\n",
              "          document.querySelector('#df-ec049ac7-ef07-4d76-b1b5-ace8034db5f6 button.colab-df-convert');\n",
              "        buttonEl.style.display =\n",
              "          google.colab.kernel.accessAllowed ? 'block' : 'none';\n",
              "\n",
              "        async function convertToInteractive(key) {\n",
              "          const element = document.querySelector('#df-ec049ac7-ef07-4d76-b1b5-ace8034db5f6');\n",
              "          const dataTable =\n",
              "            await google.colab.kernel.invokeFunction('convertToInteractive',\n",
              "                                                     [key], {});\n",
              "          if (!dataTable) return;\n",
              "\n",
              "          const docLinkHtml = 'Like what you see? Visit the ' +\n",
              "            '<a target=\"_blank\" href=https://colab.research.google.com/notebooks/data_table.ipynb>data table notebook</a>'\n",
              "            + ' to learn more about interactive tables.';\n",
              "          element.innerHTML = '';\n",
              "          dataTable['output_type'] = 'display_data';\n",
              "          await google.colab.output.renderOutput(dataTable, element);\n",
              "          const docLink = document.createElement('div');\n",
              "          docLink.innerHTML = docLinkHtml;\n",
              "          element.appendChild(docLink);\n",
              "        }\n",
              "      </script>\n",
              "    </div>\n",
              "  </div>\n",
              "  "
            ]
          },
          "metadata": {},
          "execution_count": 19
        }
      ]
    },
    {
      "cell_type": "code",
      "source": [
        "correlation = gold_data.corr()"
      ],
      "metadata": {
        "id": "ZAUBKBPSLmkw"
      },
      "execution_count": 20,
      "outputs": []
    },
    {
      "cell_type": "code",
      "source": [
        "plt.figure(figsize =(8,8))\n",
        "sns.heatmap(correlation, cbar=True, square=True, fmt='.1f',annot=True, annot_kws={'size':8}, cmap='Blues')"
      ],
      "metadata": {
        "colab": {
          "base_uri": "https://localhost:8080/",
          "height": 487
        },
        "id": "QcVD7co5MM2i",
        "outputId": "29bcfa5c-a711-4967-c93c-ebdd3a89e61d"
      },
      "execution_count": 21,
      "outputs": [
        {
          "output_type": "execute_result",
          "data": {
            "text/plain": [
              "<matplotlib.axes._subplots.AxesSubplot at 0x7fe6efd90b90>"
            ]
          },
          "metadata": {},
          "execution_count": 21
        },
        {
          "output_type": "display_data",
          "data": {
            "text/plain": [
              "<Figure size 576x576 with 2 Axes>"
            ],
            "image/png": "[encoded data removed]"
          },
          "metadata": {
            "needs_background": "light"
          }
        }
      ]
    },
    {
      "cell_type": "code",
      "source": [
        "print(correlation['GLD'])"
      ],
      "metadata": {
        "colab": {
          "base_uri": "https://localhost:8080/"
        },
        "id": "epJzyleiOh_a",
        "outputId": "31e3a8da-e83f-4121-ead1-01953c55fead"
      },
      "execution_count": 22,
      "outputs": [
        {
          "output_type": "stream",
          "name": "stdout",
          "text": [
            "SPX        0.049345\n",
            "GLD        1.000000\n",
            "USO       -0.186360\n",
            "SLV        0.866632\n",
            "EUR/USD   -0.024375\n",
            "Name: GLD, dtype: float64\n"
          ]
        }
      ]
    },
    {
      "cell_type": "code",
      "source": [
        "sns.distplot(gold_data['GLD'],color='green')"
      ],
      "metadata": {
        "colab": {
          "base_uri": "https://localhost:8080/",
          "height": 355
        },
        "id": "sPyHMd-ZPaN9",
        "outputId": "cddfac95-f919-4c89-f4ce-38a84a99faae"
      },
      "execution_count": 23,
      "outputs": [
        {
          "output_type": "stream",
          "name": "stderr",
          "text": [
            "/usr/local/lib/python3.7/dist-packages/seaborn/distributions.py:2619: FutureWarning: `distplot` is a deprecated function and will be removed in a future version. Please adapt your code to use either `displot` (a figure-level function with similar flexibility) or `histplot` (an axes-level function for histograms).\n",
            "  warnings.warn(msg, FutureWarning)\n"
          ]
        },
        {
          "output_type": "execute_result",
          "data": {
            "text/plain": [
              "<matplotlib.axes._subplots.AxesSubplot at 0x7fe6eb309e90>"
            ]
          },
          "metadata": {},
          "execution_count": 23
        },
        {
          "output_type": "display_data",
          "data": {
            "text/plain": [
              "<Figure size 432x288 with 1 Axes>"
            ],
            "image/png": "[encoded data removed]"
          },
          "metadata": {
            "needs_background": "light"
          }
        }
      ]
    },
    {
      "cell_type": "code",
      "source": [
        "X = gold_data.drop(['Date','GLD'],axis=1)\n",
        "Y = gold_data['GLD']"
      ],
      "metadata": {
        "id": "0dfqU-qbP5oV"
      },
      "execution_count": 24,
      "outputs": []
    },
    {
      "cell_type": "code",
      "source": [
        "print(X)"
      ],
      "metadata": {
        "colab": {
          "base_uri": "https://localhost:8080/"
        },
        "id": "eXKSN9yLQnrr",
        "outputId": "849bc389-dccb-452a-9088-df0274e1982e"
      },
      "execution_count": 33,
      "outputs": [
        {
          "output_type": "stream",
          "name": "stdout",
          "text": [
            "              SPX        USO      SLV   EUR/USD\n",
            "0     1447.160034  78.470001  15.1800  1.471692\n",
            "1     1447.160034  78.370003  15.2850  1.474491\n",
            "2     1411.630005  77.309998  15.1670  1.475492\n",
            "3     1416.180054  75.500000  15.0530  1.468299\n",
            "4     1390.189941  76.059998  15.5900  1.557099\n",
            "...           ...        ...      ...       ...\n",
            "2285  2671.919922  14.060000  15.5100  1.186789\n",
            "2286  2697.790039  14.370000  15.5300  1.184722\n",
            "2287  2723.070068  14.410000  15.7400  1.191753\n",
            "2288  2730.129883  14.380000  15.5600  1.193118\n",
            "2289  2725.780029  14.405800  15.4542  1.182033\n",
            "\n",
            "[2290 rows x 4 columns]\n"
          ]
        }
      ]
    },
    {
      "cell_type": "code",
      "source": [
        "print(Y)"
      ],
      "metadata": {
        "colab": {
          "base_uri": "https://localhost:8080/"
        },
        "id": "HnNN-9MoQv9J",
        "outputId": "d6b4d0bc-e6f1-4b4c-b577-098dd9d51ebe"
      },
      "execution_count": 26,
      "outputs": [
        {
          "output_type": "stream",
          "name": "stdout",
          "text": [
            "0        84.860001\n",
            "1        85.570000\n",
            "2        85.129997\n",
            "3        84.769997\n",
            "4        86.779999\n",
            "           ...    \n",
            "2285    124.589996\n",
            "2286    124.330002\n",
            "2287    125.180000\n",
            "2288    124.489998\n",
            "2289    122.543800\n",
            "Name: GLD, Length: 2290, dtype: float64\n"
          ]
        }
      ]
    },
    {
      "cell_type": "code",
      "source": [],
      "metadata": {
        "id": "AJe4WV3hvhYb"
      },
      "execution_count": null,
      "outputs": []
    },
    {
      "cell_type": "code",
      "source": [
        "X_train,X_test,Y_train,Y_test = train_test_split(X,Y, test_size=0.2,random_state=2)"
      ],
      "metadata": {
        "id": "xYfYkqIYu3eI"
      },
      "execution_count": 28,
      "outputs": []
    },
    {
      "cell_type": "code",
      "source": [
        "regressor=RandomForestRegressor(n_estimators=100)"
      ],
      "metadata": {
        "id": "Hd0LNcxov2dn"
      },
      "execution_count": 29,
      "outputs": []
    },
    {
      "cell_type": "code",
      "source": [
        "regressor.fit(X_train,Y_train)"
      ],
      "metadata": {
        "colab": {
          "base_uri": "https://localhost:8080/"
        },
        "id": "H9Tqi7fLwA5r",
        "outputId": "b707a165-d59d-4c7f-e4ba-4a2d1f2e4f9c"
      },
      "execution_count": 33,
      "outputs": [
        {
          "output_type": "execute_result",
          "data": {
            "text/plain": [
              "RandomForestRegressor()"
            ]
          },
          "metadata": {},
          "execution_count": 33
        }
      ]
    },
    {
      "cell_type": "code",
      "source": [
        "test_data_prediction=regressor.predict(X_test)"
      ],
      "metadata": {
        "id": "qVDzuraDwOz1"
      },
      "execution_count": 34,
      "outputs": []
    },
    {
      "cell_type": "code",
      "source": [
        "print(test_data_prediction)"
      ],
      "metadata": {
        "colab": {
          "base_uri": "https://localhost:8080/"
        },
        "id": "cboRXzwfwn82",
        "outputId": "fcd50026-30ea-46eb-9475-6f356fb3303d"
      },
      "execution_count": 35,
      "outputs": [
        {
          "output_type": "stream",
          "name": "stdout",
          "text": [
            "[168.41709962  82.20059981 116.00690002 127.57600064 120.61550167\n",
            " 154.8012979  150.12429885 126.07840034 117.5358988  126.05340088\n",
            " 116.98220081 172.37550047 141.66679833 167.84309858 115.13230023\n",
            " 117.12850035 138.52280366 169.99330129 159.79850292 157.31149906\n",
            " 155.18909998 125.3718     175.79999963 157.3344034  125.23710023\n",
            "  93.82319934  77.57190002 120.62779984 119.15329931 167.4934999\n",
            "  88.12730107 125.17370047  91.03470092 117.77790014 121.1214993\n",
            " 136.34350025 115.3700013  115.94580077 147.04220015 107.03010065\n",
            " 104.55280257  87.19619756 126.4118009  117.75190012 153.36709914\n",
            " 119.61180014 108.29750036 108.01219824  93.28150077 127.33899694\n",
            "  75.2747001  113.66579929 121.40860024 111.06859923 118.91249895\n",
            " 120.82979932 160.36400031 167.0041017  146.81749629  85.75749844\n",
            "  94.27850042  86.77909932  90.59650031 118.95960086 126.41740051\n",
            " 127.79670052 168.83590011 122.1985993  117.55469863  98.39470005\n",
            " 168.56010135 143.34379858 132.43410226 121.20960204 121.34469933\n",
            " 119.52880069 114.48160149 118.31530053 107.0287009  127.94670081\n",
            " 114.09589962 106.98760017 116.96040046 119.60289889  89.04520062\n",
            "  88.28599874 146.99700193 127.33449975 113.0622007  109.99699842\n",
            " 108.2845991   77.34949909 168.27310145 114.02279904 121.66549871\n",
            " 128.11610173 155.03479828  91.70699938 137.04720117 158.8341032\n",
            " 125.22130049 125.38140073 130.55740176 114.92710103 120.00690015\n",
            "  92.03529975 110.50459886 166.28969891 156.88979932 114.15549941\n",
            " 106.62210137  79.5868998  113.30480053 125.80660061 107.23019889\n",
            " 119.26560103 155.52240341 159.93929926 120.13090007 134.14520241\n",
            " 101.2250001  117.48959776 119.2718002  112.8803009  102.78109897\n",
            " 159.82649764  99.24780031 147.54139955 125.62130114 169.501099\n",
            " 125.78439862 127.29989766 127.48480177 113.75589931 113.12490076\n",
            " 123.54529922 102.21419917  89.18490007 124.74379959 101.51079958\n",
            " 107.16519911 113.73380041 117.36230053  99.09709927 121.82820052\n",
            " 163.56689884  87.54919877 106.7908998  117.17690088 127.74020121\n",
            " 124.14670051  80.53769924 120.08430062 158.56929814  87.80749995\n",
            " 110.33799915 118.7833992  172.36049846 103.01959904 105.52430036\n",
            " 122.45380002 159.18209778  87.5134982   93.77600062 112.76180008\n",
            " 177.60030004 113.93999986 119.25230032  94.76850131 125.53879997\n",
            " 165.98290099 114.8056009  116.67830139  88.36879884 149.17440061\n",
            " 120.26479943  89.64630009 111.98520012 117.21990063 118.90910121\n",
            "  87.86649928  94.11110016 117.0187997  118.52590197 120.39810088\n",
            " 126.92569774 121.94839973 149.62580013 164.72530029 118.53389962\n",
            " 120.30020144 152.1165006  118.83949869 172.91769887 105.46539944\n",
            " 105.06480101 149.53440047 113.65750071 124.98430105 147.69380009\n",
            " 119.68340139 115.17000042 112.43480007 113.45550195 138.58230152\n",
            " 118.0531974  102.89500026 115.85340111 103.65700177  98.69360027\n",
            " 117.32180077  90.73790011  91.51400055 153.34189904 102.61069986\n",
            " 154.6121014  114.31360157 139.54480091  90.18579782 115.55289932\n",
            " 114.21239998 122.80440049 121.83770039 165.25200116  92.89059957\n",
            " 135.01170164 121.27949941 120.77730059 104.69300031 143.65040245\n",
            " 121.79649919 116.59330021 113.47880081 127.26119705 122.75779933\n",
            " 125.75819897 121.1700007   86.96079889 132.61470166 143.9176021\n",
            "  92.6409002  158.65379985 158.67890186 126.25299906 164.4401994\n",
            " 108.78379964 110.15670081 103.61939834  94.41940098 127.92670268\n",
            " 106.98870073 161.91360011 121.8091005  131.93160013 130.65630175\n",
            " 160.8397993   90.24429853 175.10430136 127.17260032 126.94329829\n",
            "  86.69189904 124.50899932 150.03289772  89.76180042 107.0977997\n",
            " 109.09169993  84.20169904 135.81900034 155.2476021  139.68920336\n",
            "  74.16320009 152.46610145 126.0453993  126.78049987 127.57889884\n",
            " 108.70799945 156.03349986 114.66500087 117.17010166 125.28709995\n",
            " 153.87450173 121.32299972 156.38009933  92.79260034 125.56200113\n",
            " 126.07780018  87.91240036  92.19899902 126.14979999 128.08800327\n",
            " 113.08629988 117.84359762 120.84620017 127.33139761 119.54740136\n",
            " 136.94459992  93.84099918 119.88920012 113.21380108  94.38039922\n",
            " 108.81469972  87.37869921 109.45499925  89.77079967  92.41470036\n",
            " 131.78130285 162.46630063  89.28110033 119.7374008  133.40900195\n",
            " 123.57849981 128.17260099 102.01199862  88.91739868 131.34550065\n",
            " 119.85320036 108.56240007 167.73210133 115.07680064  86.68259857\n",
            " 118.97320078  91.05099998 161.59810052 116.29840037 121.66309993\n",
            " 160.20219827 120.2860994  112.59029948 108.55819876 126.77849923\n",
            "  76.31490008 103.06039995 127.65380224 121.79779942  92.58940014\n",
            " 132.46520063 118.07480122 115.63519996 154.7112025  158.49730057\n",
            " 110.07419974 153.30059727 119.2820013  160.52960148 118.11370014\n",
            " 157.70259912 115.11789944 116.15270032 149.2194994  114.9184007\n",
            " 125.41399849 166.52879916 117.74780003 124.9230992  153.38790342\n",
            " 153.6122024  132.04000083 114.85600049 121.13060205 124.88570098\n",
            "  89.64050099 123.38860019 154.68570071 111.6724002  106.70039988\n",
            " 162.01330083 118.40179954 165.63279965 133.96310125 114.63150012\n",
            " 152.90779872 168.93550033 114.70000015 114.00500129 158.75529866\n",
            "  85.23549867 127.0950008  127.88890058 128.93539948 124.30070082\n",
            " 123.75690047  90.82480068 153.15330078  97.18409983 137.42689977\n",
            "  89.09119911 107.084      114.96490053 113.12240083 123.95569895\n",
            "  91.47779854 125.24100114 162.44929837 119.86199897 165.09950101\n",
            " 126.95329774 112.38819997 127.44429952  95.03999923  91.05309995\n",
            " 103.31899903 120.70310001  82.76399936 126.46499998 160.76540474\n",
            " 117.15690095 118.43359974 119.93299971 122.73139969 120.03300124\n",
            " 121.50930016 118.3916006  107.13650028 148.41449911 126.2255983\n",
            " 115.714201    74.14670022 127.75690094 153.75080068 121.94390006\n",
            " 125.61720085  88.87919994 103.58469864 124.58340055 120.37109995\n",
            "  73.33130074 151.58059952 121.18100063 104.73360015  86.40479781\n",
            " 114.96989921 172.25009878 119.77460043 159.29009826 113.15359928\n",
            " 121.26819984 118.42030108  96.11599992 118.5153001  125.78680029\n",
            " 118.64629925  95.95080077 154.12950189 122.13800003 147.39719951\n",
            " 159.69210269 113.70660014 122.53739934 148.54359808 127.06310006\n",
            " 165.77250047 134.27270019 120.12529956 167.07769815 108.38389943\n",
            " 121.53309868 138.02440078 106.2552991 ]\n"
          ]
        }
      ]
    },
    {
      "cell_type": "code",
      "source": [
        "error_score=metrics.r2_score(Y_test,test_data_prediction)\n",
        "print(\"R square error:\",error_score)"
      ],
      "metadata": {
        "colab": {
          "base_uri": "https://localhost:8080/"
        },
        "id": "RLKgGiEiw8CK",
        "outputId": "a950b0c2-5945-4867-80b2-c0c6d93e8457"
      },
      "execution_count": 37,
      "outputs": [
        {
          "output_type": "stream",
          "name": "stdout",
          "text": [
            "R square error: 0.9892866836307198\n"
          ]
        }
      ]
    },
    {
      "cell_type": "code",
      "source": [
        "Y_test=list(Y_test)"
      ],
      "metadata": {
        "id": "7v51Htq2xlKB"
      },
      "execution_count": 38,
      "outputs": []
    },
    {
      "cell_type": "code",
      "source": [
        "plt.plot(Y_test,color='blue',label='Actual value')\n",
        "plt.plot(test_data_prediction,color='green',label='predicted value')\n",
        "plt.title('Actual price vs predicted price')\n",
        "plt.xlabel('Number of values')\n",
        "plt.ylabel('GLD Price')\n",
        "plt.legend()\n",
        "plt.show()\n"
      ],
      "metadata": {
        "colab": {
          "base_uri": "https://localhost:8080/",
          "height": 295
        },
        "id": "pgt4io0XyFzz",
        "outputId": "8c485d48-f829-4025-a4c4-5485ed9a73f6"
      },
      "execution_count": 46,
      "outputs": [
        {
          "output_type": "display_data",
          "data": {
            "text/plain": [
              "<Figure size 432x288 with 1 Axes>"
            ],
            "image/png": "[encoded data removed]"
          },
          "metadata": {
            "needs_background": "light"
          }
        }
      ]
    },
    {
      "cell_type": "code",
      "source": [],
      "metadata": {
        "id": "sPyD_PAN0jGv"
      },
      "execution_count": null,
      "outputs": []
    }
  ]
}